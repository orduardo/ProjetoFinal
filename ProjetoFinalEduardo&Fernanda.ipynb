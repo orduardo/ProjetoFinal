{
  "nbformat": 4,
  "nbformat_minor": 0,
  "metadata": {
    "colab": {
      "provenance": [],
      "authorship_tag": "ABX9TyNH/5GBTL+ph9ht13voj3Z6",
      "include_colab_link": true
    },
    "kernelspec": {
      "name": "python3",
      "display_name": "Python 3"
    },
    "language_info": {
      "name": "python"
    }
  },
  "cells": [
    {
      "cell_type": "markdown",
      "metadata": {
        "id": "view-in-github",
        "colab_type": "text"
      },
      "source": [
        "<a href=\"https://colab.research.google.com/github/orduardo/ProjetoFinal/blob/main/ProjetoFinalEduardo%26Fernanda.ipynb\" target=\"_parent\"><img src=\"https://colab.research.google.com/assets/colab-badge.svg\" alt=\"Open In Colab\"/></a>"
      ]
    },
    {
      "cell_type": "markdown",
      "source": [
        "# Determinação da Aceleração da Gravidade Ultilizando Dados Empíricos de um Pêndulo Simples\n",
        "\n",
        "\n",
        "---\n",
        "\n",
        "\n",
        "Eduardo Oliveira Rocha, Fernanda Aldrey Dyna Silva\n",
        "\n",
        "\n",
        "---\n",
        "\n",
        "\n",
        "\n",
        "**Projeto Final de Bases Computacionais da Ciência**\n",
        "\n",
        "Universidade Federal do ABC, Brasil\n",
        "\n",
        "\n",
        "\n",
        "\n"
      ],
      "metadata": {
        "id": "WmR9RB7LR0KE"
      }
    },
    {
      "cell_type": "markdown",
      "source": [
        "# Relevância\n",
        "O material utilizado para esse experimento é acessível e deve ser providenciado pelos próprios alunos. Por isso, além de exigir preparação estratégica mais elaborada do grupo de alunos, o experimento também abre espaço para uma gama maior de resultados possíveis, proporcionando amplas oportunidades pedagógicas. Esse experimento também evidencia as limitações dos modelos físicos adotados para descrever os fenômenos.\n",
        "\n",
        "Além de envolver áreas da elaboração de estratégias experimentais, técnicas de medição e física, a proposta deste trabalho tem como viés aplicar o ideal interdisciplinar oferecido pela universidade do ABC paulista entre a disciplina de Base Experimental das Ciências Naturais e a disciplina de Bases Computacionais da Ciência. "
      ],
      "metadata": {
        "id": "TF6JJRc6Tx1_"
      }
    },
    {
      "cell_type": "markdown",
      "source": [
        "<h1>Contents<span class=\"tocSkip\"></span></h1>\n",
        "<div class=\"toc\"><ul class=\"toc-item\"><li><span><a href=\"#Introdução\" data-toc-modified-id=\"Intriduçãoção-1\"><span class=\"toc-item-num\">1&nbsp;&nbsp;</span>Introdução</a></span></li><li><span><a href=\"#Objetivo\" data-toc-modified-id=\"Objetivo-2\"><span class=\"toc-item-num\">2&nbsp;&nbsp;</span>Objetivo</a></span></li><li><span><a href=\"#Parte Experimental\" data-toc-modified-id=\"Parte Experimental-3\"><span class=\"toc-item-num\">3&nbsp;&nbsp;</span>Parte Experimental</a> "
      ],
      "metadata": {
        "id": "QlImoWXzaSjG"
      }
    },
    {
      "cell_type": "markdown",
      "source": [
        "# Introdução\n",
        "\n",
        "O pêndulo simples é um sistema de estudo clássico em física e engenharia. Trata-se de um sistema de fácil montagem onde é possível estudar vários aspectos do movimento oscilatório. O modelo matemático usado para descrever o movimento do pêndulo também serve para descrever outros fenômenos ondulatórios como som, luz, sistemas mecânicos ressonantes (estruturas), circuitos elétricos oscilantes (formados por resistores, capacitores e indutores) etc. O entendimento e aplicação destes conceitos geram desenvolvimentos importantes em áreas variadas tais como processadores digitais, telecomunicações, sistemas de amortecimento automotivo e edificações.\n",
        "\n",
        "<figure><center><img src=\"https://s4.aconvert.com/convert/p3r68-cdx67/a34dd-70h7k.jpg\" width=300 alt=\" Diagrama-esquemático-de-um-pêndulo-simples\"/></center></figure> \n",
        "\n",
        "Figura 1. de [J. Schoenmaker & E. Teodorov](https://editora.ufabc.edu.br/images/Livros/Livro_BaseExperimentaldasCienciasNaturais.pdf).\n",
        "\n",
        "Os cientistas modernos em geral, ao observarem o pêndulo, o enxergam como um sistema oscilatório que apresenta uma transformação cíclica de energia, transformando energia potencial gravitacional em energia cinética e vice-versa repetidas vezes. Mas nem sempre o pêndulo foi observado dessa forma. Os gregos tinham a visão de mundo baseada nos quatro elementos fundamentais: terra, água, fogo e ar. Nesse modelo, os semelhantes se atraem e isso explicaria vários fenômenos naturais tais como o fluxo dos rios até o mar, a queda de objetos sólidos e a ascendência dos gases exalados por uma fogueira. Nesse contexto, Aristóteles enxergava o pêndulo como um artefato construído de forma a apresentar um processo de queda frustrada. A massa tende ao seu lugar natural que é o ponto mais próximo do solo (o ponto de altura mínima). Quando removida desse ponto mínimo, a massa tende a voltar, resultando no movimento característico do pêndulo. Note que, quando o sistema é deixado por si, o movimento cessa e a massa atinge o seu estado natural.\n",
        "\n",
        "É atribuído a Galileu o fato de ser o primeiro a perceber o pêndulo como um sistema essencialmente oscilatório, cujo comportamento depende de parâmetros básicos mínimos. Esta é uma passagem notória da história da ciência, quando ele fez observações no movimento dos candelabros da catedral de Pisa, na Itália em 1602. Por apresentar uma frequência muito bem determinada, ele apreciou o pêndulo como um dispositivo para medir a passagem do tempo e até propôs um relógio determinação da aceleração da gravidade usando um pêndulo simples\n",
        "81 baseado no princípio. O relógio de pêndulo foi patenteado poucos anos depois por Christiaan Huygens. Até 1929, a hora oficial dos Estados Unidos era determinada por um relógio de pêndulo, ou seja, por quase 300 anos, o pêndulo reinou absoluto como a tecnologia mais confiável para a marcação do tempo.\n",
        "\n",
        "Apesar de toda a perspicácia das observações de Galileu, ele não poderia enxergar no movimento do pêndulo a conversão de energia potencial gravitacional em energia cinética. Isso porque o conceito de energia como entendemos hoje se consolidou somente bem mais tarde, ao final do séc.XIX e início do séc. XX devido aos trabalhos realizados no âmbito da termodinâmica por cientistas\n",
        "como Mayer, Kelvin, Joule, Clausius e outros. \n",
        "\n",
        "Os distintos pontos de vista de Aristóteles, Galileu e do “cientista atual” revelam como um fenômeno simples pode ser compreendido a partir de arcabouços teóricos distintos. Há que se evitar o anacronismo e julgar o modelo atual “superior” aos outros. Todos os modelos tinham (ou tem) poder explicativo satisfatório para sua época. Por outro lado, não há agravo em apreciar a riqueza conceitual da racionalidade humana ao compreender os fenômenos da natureza ao longo de sua história.\n",
        "\n",
        "\n"
      ],
      "metadata": {
        "id": "UYqMDAMVbjFp"
      }
    },
    {
      "cell_type": "markdown",
      "source": [
        "Nesse experimento focaremos nos aspectos oscilatórios do movimento pendular que o qualifica como um ótimo marcador de tempo e gravímetro (instrumento para medir a aceleração da gravidade). Quando não se considera as oscilações amplas, pode-se construir um modelo analítico simples para o comportamento do pêndulo simples. Não demonstraremos essa solução analítica neste roteiro, pois isso foge dos objetivos de nossa atividade experimental. Mas é importante salientar que essa solução analítica depende de uma aproximação que é expressa matematicamente da forma:\n",
        "\n",
        "**Equação 1.1**\n",
        "\n",
        "$$ sin(θ) ≈  θ$$\n",
        "\n",
        "Ou seja, durante todo seu movimento, a inclinação do pêndulo (Fig. 1) não pode exceder o regime onde essa aproximação é válida. Note que a Eq. 1.1 faz sentido utilizando-se as unidades de ângulos em radianos que são as unidades “naturais” da trigonometria (esse aspecto é tratado como atividade a seguir na **Tabela 1.1**). Respeitando esse regime, o modelo descreve uma relação entre o tempo que o pêndulo leva para realizar uma oscilação completa, que é denominado período de oscilação (T), o comprimento do pêndulo (L) e a aceleração da gravidade (g).\n",
        "\n",
        "**Equação 1.2**\n",
        "\n",
        "$$ T = 2\\pi\\sqrt{\\frac{L}{g}} $$\n",
        "\n",
        "Vemos que o comportamento oscilatório depende de poucos parâmetros e, da mesma forma que a aceleração de um corpo em queda livre, o período de oscilação do pêndulo não depende da massa. Rearranjando os termos da Eq. 1.1, temos:\n",
        "\n",
        "**Equação 1.3**\n",
        "\n",
        "$$ g = (\\frac{2\\pi}{T})^{2}L $$\n",
        "\n",
        "Por simplicidade, na maioria dos casos a aceleração da gravidade é tratada como uma constante. Porém a Terra não é homogênea e se movimenta no espaço translacionalmente e rotacionalmente. Isso faz com que o valor de g dependa da posição geográfica (latitude e altitude principalmente)\n",
        "podendo variar de 9.78 a 9,83 m/s2. "
      ],
      "metadata": {
        "id": "pIHEoUfhyJad"
      }
    },
    {
      "cell_type": "markdown",
      "source": [
        "# Objetivo"
      ],
      "metadata": {
        "id": "Hx3iy3JKcsUR"
      }
    },
    {
      "cell_type": "markdown",
      "source": [
        "# Parte Experimental"
      ],
      "metadata": {
        "id": "wyTyNXzXn-uj"
      }
    }
  ]
}