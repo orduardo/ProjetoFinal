{
  "nbformat": 4,
  "nbformat_minor": 0,
  "metadata": {
    "colab": {
      "provenance": [],
      "authorship_tag": "ABX9TyNRAMGJzOeXAn6DTheteI4l",
      "include_colab_link": true
    },
    "kernelspec": {
      "name": "python3",
      "display_name": "Python 3"
    },
    "language_info": {
      "name": "python"
    }
  },
  "cells": [
    {
      "cell_type": "markdown",
      "metadata": {
        "id": "view-in-github",
        "colab_type": "text"
      },
      "source": [
        "<a href=\"https://colab.research.google.com/github/orduardo/ProjetoFinal/blob/main/ProjetoFinalEduardo%26Fernanda.ipynb\" target=\"_parent\"><img src=\"https://colab.research.google.com/assets/colab-badge.svg\" alt=\"Open In Colab\"/></a>"
      ]
    },
    {
      "cell_type": "markdown",
      "source": [
        "# Determinação da Aceleração da Gravidade Ultilizando Dados Empíricos de um Pêndulo Simples\n",
        "\n",
        "\n",
        "---\n",
        "\n",
        "\n",
        "Eduardo Oliveira Rocha, Fernanda Aldrey Dyna Silva\n",
        "\n",
        "\n",
        "---\n",
        "\n",
        "\n",
        "\n",
        "**Projeto Final de Bases Computacionais da Ciência**\n",
        "\n",
        "Universidade Federal do ABC, Brasil\n",
        "\n",
        "\n",
        "\n",
        "\n"
      ],
      "metadata": {
        "id": "WmR9RB7LR0KE"
      }
    },
    {
      "cell_type": "markdown",
      "source": [
        "<h1>Contents<span class=\"tocSkip\"></span></h1><div class=\"toc\"><ul class=\"toc-item\"><li><span><a \n",
        "href=\"#Relevância\" data-toc-modified-id=\"Relevância-1\"><span class=\"toc-item-num\">1&nbsp;&nbsp;</span>Relevância</a></span></li><li><span><a \n",
        "href=\"#Introdução\" data-toc-modified-id=\"Introdução-2\"><span class=\"toc-item-num\">2&nbsp;&nbsp;</span>Introdução</a></span></li><li><span><a \n",
        "href=\"#Objetivoo\" data-toc-modified-id=\"Objetivo-3\"><span class=\"toc-item-num\">3&nbsp;&nbsp;</span>Objetivo</a></span></li><li><span><a \n",
        "href=\"#Parte Experimental\" data-toc-modified-id=\"Parte Experimental-4\"><span class=\"toc-item-num\">4&nbsp;&nbsp;</span>Parte Experimental</a></span></li><li><span><a \n",
        "href=\"#Conclusão\" data-toc-modified-id=\"Conclusão-5\"><span class=\"toc-item-num\">5&nbsp;&nbsp;</span>Conclusão</a></span></li><li><span><a \n",
        "href=\"#Referências\" data-toc-modified-id=\"Referências-6\"><span class=\"toc-item-num\">6&nbsp;&nbsp;</span>Referências</a>    \n",
        "\n"
      ],
      "metadata": {
        "id": "QlImoWXzaSjG"
      }
    },
    {
      "cell_type": "markdown",
      "source": [
        "# Relevância\n",
        "O material utilizado para esse experimento é acessível e deve ser providenciado pelos próprios alunos. Por isso, além de exigir preparação estratégica mais elaborada do grupo de alunos, o experimento também abre espaço para uma gama maior de resultados possíveis, proporcionando amplas oportunidades pedagógicas. Esse experimento também evidencia as limitações dos modelos físicos adotados para descrever os fenômenos.\n",
        "\n",
        "Além de envolver áreas da elaboração de estratégias experimentais, técnicas de medição e física, a proposta deste trabalho tem como viés aplicar o ideal interdisciplinar oferecido pela universidade do ABC paulista entre a disciplina de Base Experimental das Ciências Naturais e a disciplina de Bases Computacionais da Ciência. Foi escolhido pela dupla o tópico EXPERIMENTO – Pêndulo Simples, em que é necessário o preenchimento de tabelas contendo dados, resultados de equações proposta no experimento e a plotagem de gráficos que contemplem uma análise feita com os dados coletados.\n"
      ],
      "metadata": {
        "id": "TF6JJRc6Tx1_"
      }
    },
    {
      "cell_type": "markdown",
      "source": [
        "# Introdução\n",
        "\n",
        "O pêndulo simples é um sistema de estudo clássico em física e engenharia. Trata-se de um sistema de fácil montagem onde é possível estudar vários aspectos do movimento oscilatório. O modelo matemático usado para descrever o movimento do pêndulo também serve para descrever outros fenômenos ondulatórios como som, luz, sistemas mecânicos ressonantes (estruturas), circuitos elétricos oscilantes (formados por resistores, capacitores e indutores) etc. O entendimento e aplicação destes conceitos geram desenvolvimentos importantes em áreas variadas tais como processadores digitais, telecomunicações, sistemas de amortecimento automotivo e edificações.\n",
        "\n",
        "<figure><center><img src=\"https://i.im.ge/2022/11/23/SDzjTM.pendulo-feio.png\" width=300 alt=\" Diagrama-esquemático-de-um-pêndulo-simples\"/></center></figure> \n",
        "\n",
        "Figura 1.1 de [J. Schoenmaker & E. Teodorov](https://editora.ufabc.edu.br/images/Livros/Livro_BaseExperimentaldasCienciasNaturais.pdf).\n",
        "\n",
        "Os cientistas modernos em geral, ao observarem o pêndulo, o enxergam como um sistema oscilatório que apresenta uma transformação cíclica de energia, transformando energia potencial gravitacional em energia cinética e vice-versa repetidas vezes. Mas nem sempre o pêndulo foi observado dessa forma. Os gregos tinham a visão de mundo baseada nos quatro elementos fundamentais: terra, água, fogo e ar. Nesse modelo, os semelhantes se atraem e isso explicaria vários fenômenos naturais tais como o fluxo dos rios até o mar, a queda de objetos sólidos e a ascendência dos gases exalados por uma fogueira. Nesse contexto, Aristóteles enxergava o pêndulo como um artefato construído de forma a apresentar um processo de queda frustrada. A massa tende ao seu lugar natural que é o ponto mais próximo do solo (o ponto de altura mínima). Quando removida desse ponto mínimo, a massa tende a voltar, resultando no movimento característico do pêndulo. Note que, quando o sistema é deixado por si, o movimento cessa e a massa atinge o seu estado natural.\n",
        "\n",
        "É atribuído a Galileu o fato de ser o primeiro a perceber o pêndulo como um sistema essencialmente oscilatório, cujo comportamento depende de parâmetros básicos mínimos. Esta é uma passagem notória da história da ciência, quando ele fez observações no movimento dos candelabros da catedral de Pisa, na Itália em 1602. Por apresentar uma frequência muito bem determinada, ele apreciou o pêndulo como um dispositivo para medir a passagem do tempo e até propôs um relógio determinação da aceleração da gravidade usando um pêndulo simples\n",
        "81 baseado no princípio. O relógio de pêndulo foi patenteado poucos anos depois por Christiaan Huygens. Até 1929, a hora oficial dos Estados Unidos era determinada por um relógio de pêndulo, ou seja, por quase 300 anos, o pêndulo reinou absoluto como a tecnologia mais confiável para a marcação do tempo.\n",
        "\n",
        "Apesar de toda a perspicácia das observações de Galileu, ele não poderia enxergar no movimento do pêndulo a conversão de energia potencial gravitacional em energia cinética. Isso porque o conceito de energia como entendemos hoje se consolidou somente bem mais tarde, ao final do séc.XIX e início do séc. XX devido aos trabalhos realizados no âmbito da termodinâmica por cientistas\n",
        "como Mayer, Kelvin, Joule, Clausius e outros. \n",
        "\n",
        "Os distintos pontos de vista de Aristóteles, Galileu e do “cientista atual” revelam como um fenômeno simples pode ser compreendido a partir de arcabouços teóricos distintos. Há que se evitar o anacronismo e julgar o modelo atual “superior” aos outros. Todos os modelos tinham (ou tem) poder explicativo satisfatório para sua época. Por outro lado, não há agravo em apreciar a riqueza conceitual da racionalidade humana ao compreender os fenômenos da natureza ao longo de sua história.\n",
        "\n",
        "\n"
      ],
      "metadata": {
        "id": "UYqMDAMVbjFp"
      }
    },
    {
      "cell_type": "markdown",
      "source": [
        "Nesse experimento focaremos nos aspectos oscilatórios do movimento pendular que o qualifica como um ótimo marcador de tempo e gravímetro (instrumento para medir a aceleração da gravidade). Quando não se considera as oscilações amplas, pode-se construir um modelo analítico simples para o comportamento do pêndulo simples. Não demonstraremos essa solução analítica neste roteiro, pois isso foge dos objetivos de nossa atividade experimental. Mas é importante salientar que essa solução analítica depende de uma aproximação que é expressa matematicamente da forma:\n",
        "\n",
        "**Equação 1.1**\n",
        "\n",
        "$$ sin(θ) ≈  θ$$\n",
        "\n",
        "Ou seja, durante todo seu movimento, a inclinação do pêndulo (Fig. 1) não pode exceder o regime onde essa aproximação é válida. Note que a Eq. 1.1 faz sentido utilizando-se as unidades de ângulos em radianos que são as unidades “naturais” da trigonometria (esse aspecto é tratado como atividade a seguir na **Tabela 1.1**). Respeitando esse regime, o modelo descreve uma relação entre o tempo que o pêndulo leva para realizar uma oscilação completa, que é denominado período de oscilação (T), o comprimento do pêndulo (L) e a aceleração da gravidade (g).\n",
        "\n",
        "**Equação 1.2**\n",
        "\n",
        "$$ T = 2\\pi\\sqrt{\\frac{L}{g}} $$\n",
        "\n",
        "Vemos que o comportamento oscilatório depende de poucos parâmetros e, da mesma forma que a aceleração de um corpo em queda livre, o período de oscilação do pêndulo não depende da massa. Rearranjando os termos da Eq. 1.1, temos:\n",
        "\n",
        "**Equação 1.3**\n",
        "\n",
        "$$ g = (\\frac{2\\pi}{T})^{2}L $$\n",
        "\n",
        "Por simplicidade, na maioria dos casos a aceleração da gravidade é tratada como uma constante. Porém a Terra não é homogênea e se movimenta no espaço translacionalmente e rotacionalmente. Isso faz com que o valor de g dependa da posição geográfica (latitude e altitude principalmente)\n",
        "podendo variar de 9.78 a 9,83 m/s2. "
      ],
      "metadata": {
        "id": "pIHEoUfhyJad"
      }
    },
    {
      "cell_type": "markdown",
      "source": [
        "# Objetivo\n",
        "\n",
        "Utilizar de softwares livres e código aberto (solução FOSS) que facilitem na organização e resolução das atividades propostas a partir dos dados obtidos pelo grupo de alunos da disciplina de Bases Experimental das Ciências Naturais (BECN), executando de maneira mais rápida e eficaz dos objetivos explanados do tópico apresentado, que consiste em testar a validade da utilização do pêndulo simples como instrumento de medição de grandezas físicas como o tempo, aceleração da gravidade e avaliar os limites do uso da técnica."
      ],
      "metadata": {
        "id": "Hx3iy3JKcsUR"
      }
    },
    {
      "cell_type": "markdown",
      "source": [
        "# Parte Experimental\n",
        "\n",
        "\n",
        "No procedimento, como visto na introdução, o cálculo do período do pêndulo expresso na Eq. 1.2 está condicionado a uma aproximação que considera o valor numérico do seno de um ângulo igual ao próprio ângulo (Eq. 1.1). Vamos avaliar em que regime isso é válido preenchendo a tabela 1.1\n",
        "\n",
        "Nessa tabela é requisitado a relação dos valores de determinados ângulos e seus respectivos senos obtidos através da proposta do experimento."
      ],
      "metadata": {
        "id": "wyTyNXzXn-uj"
      }
    },
    {
      "cell_type": "code",
      "source": [],
      "metadata": {
        "id": "KuNx1-DTd7jS"
      },
      "execution_count": null,
      "outputs": []
    },
    {
      "cell_type": "markdown",
      "source": [
        "O grupo deve determinar o período de oscilação para cada comprimento adotado e anote na tabela 1.2 e a partir da Eq. 1.3 ser calculado o valor da aceleração da gravidade.\n",
        "\n",
        "A tabela deve apresentar a relação do período de oscilação com o comprimento do pêndulo e o respectivo cálculo da aceleração da gravidade. \n",
        "\n",
        "**O ângulo usado no cálculo das medidas da tabela deve ser uma constante declarada**"
      ],
      "metadata": {
        "id": "Y4M0UdfujOR2"
      }
    },
    {
      "cell_type": "code",
      "source": [],
      "metadata": {
        "id": "KPOC8inGnOjR"
      },
      "execution_count": null,
      "outputs": []
    },
    {
      "cell_type": "markdown",
      "source": [
        "Represente graficamente o comportamento de T em função de L. Esse gráfico se refere ao comportamento ideal expresso na Eq. 1.2. \n",
        "\n",
        " **gráfico T x L** "
      ],
      "metadata": {
        "id": "MRuWGgCmnYOd"
      }
    },
    {
      "cell_type": "code",
      "source": [],
      "metadata": {
        "id": "FxQwRFG1oUlV"
      },
      "execution_count": null,
      "outputs": []
    },
    {
      "cell_type": "markdown",
      "source": [
        "Represente graficamente o comportamento de g em função de L. Esse gráfico se refere ao\n",
        "comportamento ideal expresso na Eq. 1.3.\n",
        "\n",
        "**gráfico g x L**"
      ],
      "metadata": {
        "id": "yWcdmPN2oVUi"
      }
    },
    {
      "cell_type": "code",
      "source": [],
      "metadata": {
        "id": "CFLCtukfuRoy"
      },
      "execution_count": null,
      "outputs": []
    },
    {
      "cell_type": "markdown",
      "source": [
        "# Conclusão "
      ],
      "metadata": {
        "id": "6zi7AiJLSe9a"
      }
    },
    {
      "cell_type": "markdown",
      "source": [
        "# Referências"
      ],
      "metadata": {
        "id": "JFKpo5AySj7u"
      }
    }
  ]
}